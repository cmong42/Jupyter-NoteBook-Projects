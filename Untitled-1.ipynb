{
 "cells": [
  {
   "cell_type": "code",
   "execution_count": 3,
   "metadata": {},
   "outputs": [],
   "source": [
    "#!/usr/bin/env python\n",
    "# coding: utf-8\n",
    "\n",
    "# In[10]:\n",
    "\n",
    "\n",
    "\n",
    "# In[11]:\n",
    "\n",
    "\n",
    "from operator import itemgetter\n",
    "import matplotlib.pyplot as plt\n",
    "import networkx as nx\n",
    "import requests\n",
    "import json\n",
    "import discogs_client\n",
    "import re\n",
    "import hvplot.networkx as hvnx\n",
    "\n",
    "d = discogs_client.Client(\n",
    "    'ClassProjectGraph/1.0',\n",
    "    user_token=\"ENTER USER TOKEN FOR DISCOGS HERE\"\n",
    ")\n",
    "\n",
    "\n",
    "# In[12]:\n",
    "\n",
    "\n",
    "def getArtistCollabs(artist0):\n",
    "    results = d.search(artist0, type='artist')\n",
    "    ts = results.page(1)[0]\n",
    "    ts_artist = d.artist(ts.data[\"id\"])\n",
    "    listArtists = []\n",
    "    for i in ts_artist.releases:\n",
    "        listArtists.append(i.data[\"artist\"])\n",
    "    collaboratingArtists = []\n",
    "    for i in list(set(listArtists)):\n",
    "        if ts.data[\"name\"] in i:\n",
    "            collaboratingArtists.append(i)\n",
    "\n",
    "    cleanedCollaboratingArtists = []\n",
    "    for i in collaboratingArtists:\n",
    "        artList = re.split(\"Feat\\.|With|\\/|&|Featuring|\\|\", i)\n",
    "        artList = [i.strip() for i in artList]\n",
    "        cleanedCollaboratingArtists+=[\"\".join(i) for i in artList]\n",
    "    cleanedCollaboratingArtists = list(set(cleanedCollaboratingArtists))\n",
    "    for i in cleanedCollaboratingArtists:\n",
    "        if artist0 in i:\n",
    "            cleanedCollaboratingArtists.remove(i)\n",
    "    return cleanedCollaboratingArtists\n",
    "\n",
    "def generateGraph(artist0, color=\"red\"):\n",
    "    G = nx.Graph()\n",
    "    myList = []\n",
    "    cleanedCollaboratingArtists = getArtistCollabs(artist0)\n",
    "    for i in range(len(cleanedCollaboratingArtists)):\n",
    "        try:\n",
    "            myList.append((cleanedCollaboratingArtists[i], artist0))\n",
    "        except:\n",
    "            pass\n",
    "\n",
    "    G.add_edges_from(myList)\n",
    "\n",
    "    return G"
   ]
  },
  {
   "cell_type": "code",
   "execution_count": 4,
   "metadata": {},
   "outputs": [],
   "source": [
    "G1 = generateGraph(\"Celine Dion\")\n",
    "G2 = generateGraph(\"Josh Groban\")\n",
    "G3 = generateGraph(\"Andrea Bocelli\")\n"
   ]
  },
  {
   "cell_type": "code",
   "execution_count": 13,
   "metadata": {},
   "outputs": [],
   "source": []
  },
  {
   "cell_type": "code",
   "execution_count": 6,
   "metadata": {},
   "outputs": [],
   "source": [
    "G4 = nx.compose(G1, G2)\n",
    "G4 = nx.compose(G3, G4)"
   ]
  },
  {
   "cell_type": "code",
   "execution_count": 7,
   "metadata": {},
   "outputs": [
    {
     "data": {},
     "metadata": {},
     "output_type": "display_data"
    },
    {
     "data": {
      "application/vnd.holoviews_exec.v0+json": "",
      "text/html": [
       "<div id='1003'>\n",
       "  <div class=\"bk-root\" id=\"9cb7ee30-c477-4b5c-9932-90ca550b9a32\" data-root-id=\"1003\"></div>\n",
       "</div>\n",
       "<script type=\"application/javascript\">(function(root) {\n",
       "  function embed_document(root) {\n",
       "    var docs_json = {\"6bcfc96c-fc30-46d1-8054-de895a6d5d0c\":{\"defs\":[{\"extends\":null,\"module\":null,\"name\":\"ReactiveHTML1\",\"overrides\":[],\"properties\":[]},{\"extends\":null,\"module\":null,\"name\":\"FlexBox1\",\"overrides\":[],\"properties\":[{\"default\":\"flex-start\",\"kind\":null,\"name\":\"align_content\"},{\"default\":\"flex-start\",\"kind\":null,\"name\":\"align_items\"},{\"default\":\"row\",\"kind\":null,\"name\":\"flex_direction\"},{\"default\":\"wrap\",\"kind\":null,\"name\":\"flex_wrap\"},{\"default\":\"flex-start\",\"kind\":null,\"name\":\"justify_content\"}]},{\"extends\":null,\"module\":null,\"name\":\"GridStack1\",\"overrides\":[],\"properties\":[{\"default\":\"warn\",\"kind\":null,\"name\":\"mode\"},{\"default\":null,\"kind\":null,\"name\":\"ncols\"},{\"default\":null,\"kind\":null,\"name\":\"nrows\"},{\"default\":true,\"kind\":null,\"name\":\"allow_resize\"},{\"default\":true,\"kind\":null,\"name\":\"allow_drag\"},{\"default\":[],\"kind\":null,\"name\":\"state\"}]},{\"extends\":null,\"module\":null,\"name\":\"click1\",\"overrides\":[],\"properties\":[{\"default\":\"\",\"kind\":null,\"name\":\"terminal_output\"},{\"default\":\"\",\"kind\":null,\"name\":\"debug_name\"},{\"default\":0,\"kind\":null,\"name\":\"clears\"}]},{\"extends\":null,\"module\":null,\"name\":\"NotificationAreaBase1\",\"overrides\":[],\"properties\":[{\"default\":\"bottom-right\",\"kind\":null,\"name\":\"position\"},{\"default\":0,\"kind\":null,\"name\":\"_clear\"}]},{\"extends\":null,\"module\":null,\"name\":\"NotificationArea1\",\"overrides\":[],\"properties\":[{\"default\":[],\"kind\":null,\"name\":\"notifications\"},{\"default\":\"bottom-right\",\"kind\":null,\"name\":\"position\"},{\"default\":0,\"kind\":null,\"name\":\"_clear\"},{\"default\":[{\"background\":\"#ffc107\",\"icon\":{\"className\":\"fas fa-exclamation-triangle\",\"color\":\"white\",\"tagName\":\"i\"},\"type\":\"warning\"},{\"background\":\"#007bff\",\"icon\":{\"className\":\"fas fa-info-circle\",\"color\":\"white\",\"tagName\":\"i\"},\"type\":\"info\"}],\"kind\":null,\"name\":\"types\"}]},{\"extends\":null,\"module\":null,\"name\":\"Notification\",\"overrides\":[],\"properties\":[{\"default\":null,\"kind\":null,\"name\":\"background\"},{\"default\":3000,\"kind\":null,\"name\":\"duration\"},{\"default\":null,\"kind\":null,\"name\":\"icon\"},{\"default\":\"\",\"kind\":null,\"name\":\"message\"},{\"default\":null,\"kind\":null,\"name\":\"notification_type\"},{\"default\":false,\"kind\":null,\"name\":\"_destroyed\"}]},{\"extends\":null,\"module\":null,\"name\":\"TemplateActions1\",\"overrides\":[],\"properties\":[{\"default\":0,\"kind\":null,\"name\":\"open_modal\"},{\"default\":0,\"kind\":null,\"name\":\"close_modal\"}]},{\"extends\":null,\"module\":null,\"name\":\"MaterialTemplateActions1\",\"overrides\":[],\"properties\":[{\"default\":0,\"kind\":null,\"name\":\"open_modal\"},{\"default\":0,\"kind\":null,\"name\":\"close_modal\"}]}],\"roots\":{\"references\":[{\"attributes\":{\"coordinates\":null,\"data_source\":{\"id\":\"1041\"},\"glyph\":{\"id\":\"1049\"},\"group\":null,\"hover_glyph\":{\"id\":\"1051\"},\"muted_glyph\":{\"id\":\"1052\"},\"nonselection_glyph\":{\"id\":\"1050\"},\"view\":{\"id\":\"1054\"}},\"id\":\"1053\",\"type\":\"GlyphRenderer\"},{\"attributes\":{\"below\":[{\"id\":\"1017\"}],\"center\":[{\"id\":\"1020\"},{\"id\":\"1024\"}],\"height\":400,\"left\":[{\"id\":\"1021\"}],\"margin\":[5,5,5,5],\"min_border_bottom\":10,\"min_border_left\":10,\"min_border_right\":10,\"min_border_top\":10,\"outline_line_alpha\":0,\"renderers\":[{\"id\":\"1055\"}],\"sizing_mode\":\"fixed\",\"title\":{\"id\":\"1009\"},\"toolbar\":{\"id\":\"1032\"},\"width\":400,\"x_range\":{\"id\":\"1005\"},\"x_scale\":{\"id\":\"1013\"},\"y_range\":{\"id\":\"1006\"},\"y_scale\":{\"id\":\"1015\"}},\"id\":\"1008\",\"subtype\":\"Figure\",\"type\":\"Plot\"},{\"attributes\":{},\"id\":\"1073\",\"type\":\"AllLabels\"},{\"attributes\":{\"data\":{\"end\":{\"__ndarray__\":\"AQAAAAIAAAADAAAABAAAAAUAAAAGAAAABwAAAAgAAAAJAAAACgAAAAsAAAAMAAAADQAAAA4AAAAPAAAAEAAAABEAAAASAAAAEwAAABQAAAAVAAAAFgAAABcAAAAYAAAAGQAAABoAAAAbAAAAHAAAAB0AAAAeAAAAHwAAACAAAAAhAAAAIgAAACMAAAABAAAAJAAAACUAAAAmAAAAJwAAACkAAAAqAAAAKwAAACwAAAAtAAAALgAAAC8AAAAwAAAAMQAAADIAAAAzAAAANAAAADUAAAA2AAAANwAAADgAAAA5AAAAOgAAADsAAAA8AAAAPQAAAD4AAAA/AAAAQAAAAEEAAABCAAAAQwAAAEQAAABFAAAARgAAAEcAAABIAAAASQAAAEoAAABLAAAATAAAAE0AAABOAAAATwAAAFAAAABRAAAAUgAAAFMAAABUAAAAVQAAAFYAAABXAAAAWAAAAA==\",\"dtype\":\"int32\",\"order\":\"little\",\"shape\":[88]},\"start\":{\"__ndarray__\":\"AAAAAAEAAAABAAAAAQAAAAEAAAABAAAAAQAAAAEAAAABAAAAAQAAAAEAAAABAAAAAQAAAAEAAAABAAAAAQAAAAEAAAABAAAAAQAAAAEAAAABAAAAAQAAAAEAAAABAAAAAQAAAAEAAAABAAAAAQAAAAEAAAABAAAAAQAAAAEAAAABAAAAAQAAAAEAAAABAAAAAQAAAAEAAAABAAAAAQAAACgAAAApAAAAKQAAACkAAAApAAAAKQAAACkAAAApAAAAKQAAACkAAAApAAAAKQAAACkAAAApAAAAKQAAACkAAAApAAAAKQAAACkAAAApAAAAKQAAACkAAAApAAAAKQAAACkAAAApAAAAKQAAACkAAAApAAAAKQAAACkAAAApAAAAKQAAACkAAAApAAAAKQAAACkAAAApAAAAKQAAACkAAAApAAAAKQAAAD8AAABTAAAAUwAAAFMAAABTAAAAUwAAAA==\",\"dtype\":\"int32\",\"order\":\"little\",\"shape\":[88]}},\"selected\":{\"id\":\"1085\"},\"selection_policy\":{\"id\":\"1084\"}},\"id\":\"1041\",\"type\":\"ColumnDataSource\"},{\"attributes\":{},\"id\":\"1085\",\"type\":\"Selection\"},{\"attributes\":{\"source\":{\"id\":\"1041\"}},\"id\":\"1054\",\"type\":\"CDSView\"},{\"attributes\":{},\"id\":\"1084\",\"type\":\"UnionRenderers\"},{\"attributes\":{},\"id\":\"1069\",\"type\":\"BasicTickFormatter\"},{\"attributes\":{},\"id\":\"1066\",\"type\":\"NodesAndLinkedEdges\"},{\"attributes\":{},\"id\":\"1082\",\"type\":\"UnionRenderers\"},{\"attributes\":{\"end\":0.721069208255726,\"reset_end\":0.721069208255726,\"reset_start\":-1.1124769496504754,\"start\":-1.1124769496504754,\"tags\":[[[\"x\",\"x\",null]]]},\"id\":\"1005\",\"type\":\"Range1d\"},{\"attributes\":{},\"id\":\"1083\",\"type\":\"Selection\"},{\"attributes\":{},\"id\":\"1013\",\"type\":\"LinearScale\"},{\"attributes\":{},\"id\":\"1022\",\"type\":\"BasicTicker\"},{\"attributes\":{\"fill_alpha\":{\"value\":0.2},\"fill_color\":{\"value\":\"#30a2da\"},\"hatch_alpha\":{\"value\":0.2},\"hatch_color\":{\"value\":\"#30a2da\"},\"line_alpha\":{\"value\":0.2},\"size\":{\"value\":15}},\"id\":\"1044\",\"type\":\"Circle\"},{\"attributes\":{\"coordinates\":null,\"data_source\":{\"id\":\"1040\"},\"glyph\":{\"id\":\"1043\"},\"group\":null,\"hover_glyph\":{\"id\":\"1045\"},\"muted_glyph\":{\"id\":\"1046\"},\"nonselection_glyph\":{\"id\":\"1044\"},\"view\":{\"id\":\"1048\"}},\"id\":\"1047\",\"type\":\"GlyphRenderer\"},{\"attributes\":{\"data\":{\"index\":{\"__ndarray__\":\"AAAAAAEAAAACAAAAAwAAAAQAAAAFAAAABgAAAAcAAAAIAAAACQAAAAoAAAALAAAADAAAAA0AAAAOAAAADwAAABAAAAARAAAAEgAAABMAAAAUAAAAFQAAABYAAAAXAAAAGAAAABkAAAAaAAAAGwAAABwAAAAdAAAAHgAAAB8AAAAgAAAAIQAAACIAAAAjAAAAJAAAACUAAAAmAAAAJwAAACgAAAApAAAAKgAAACsAAAAsAAAALQAAAC4AAAAvAAAAMAAAADEAAAAyAAAAMwAAADQAAAA1AAAANgAAADcAAAA4AAAAOQAAADoAAAA7AAAAPAAAAD0AAAA+AAAAPwAAAEAAAABBAAAAQgAAAEMAAABEAAAARQAAAEYAAABHAAAASAAAAEkAAABKAAAASwAAAEwAAABNAAAATgAAAE8AAABQAAAAUQAAAFIAAABTAAAAVAAAAFUAAABWAAAAVwAAAFgAAAA=\",\"dtype\":\"int32\",\"order\":\"little\",\"shape\":[89]},\"index_hover\":[\"Steven Mercurio\",\"Andrea Bocelli\",\"Celine Dion*\",\"Katherine Jenkins\",\"Ed Sheeran\",\"Marco Borsato\",\"Ivan Graziani\",\"Laura Pausini\",\"Dulce Pontes\",\"Puccini* - Andrea Bocelli, Fiorenza Cedolins, Orchestra* E Coro Del Maggio Musicale Fiorentino, Zubin Mehta\",\"Amii Stewart\",\"Les Choristes\",\"Luciano Pavarotti\",\"Ariana Grande\",\"Paoletta Marrocu\",\"Andrea Bocelli, London Symphony Orchestra*, Lorin Maazel\",\"Puccini* - Andrea Bocelli . Ana Maria Martinez . Orquestra De La Comunitat Valenciana*, Coro De La Generalitat Valenciana, Placido Domingo\",\"Stevie Wonder\",\"Franz Ferdinand, Andrea Bocelli\",\"Georges Bizet\",\"Unknown Artist\",\"Andrea Bocelli, Marina Domashenko, Eva Mei, Bryn Terfel\",\"Randy Crawford\",\"Lucio Gallo\",\"Andrea Bocelli Dueto Con Dulce Pontes\",\"Helena*\",\"Sarah Brightman\",\"Il Novecento Orchestra, Andrea Bocelli, Joe Cocker, Guo Yue, Tony Hadley, Dani Klein, Paul Michiels\",\"Gerardina Trovato\",\"Matteo Bocelli\",\"Andrea Bocelli, Maite Alberola, Gounod*, Fabio Luisi\",\"Andrea Bocelli, Orchestra* E Coro Dell'Accademia Nazionale Di Santa Cecilia, Myung-Whun Chung\",\"Jennifer Lopez\",\"Violeta Urmana\",\"Stefano Antonucci\",\"Gianna Nannini\",\"Andrea Bocelli, Marina Domashenko, Eva Mei, Bryn Terfel  \\u2022 Myung-Whun Chung, Orchestre Philharmonique De Radio France\",\"Andrea Bocelli En Duo Avec H\\u00e9l\\u00e8ne S\\u00e9gara\",\"Judy Weiss\",\"Mary J Blige*\",\"C\\u00e9line Dion, Cher, Dixie Chicks, Shakira\",\"Celine Dion\",\"C\\u00e9line Dion Music By Lewis Furey\",\"Freddie Jackson\",\"Cranbarries*\",\"Patricia Kaas\",\"C\\u00e9line Dion, Phil Spector\",\"R. Kelly\",\"Vibze Cartel*\",\"C\\u00e9line Dion, Jean-Pierre Ferland, Serge Fontane, Daniel H\\u00e9tu\",\"Tamia\",\"Ne-Yo\",\"C\\u00e9line Dion, Jodelle Ferland\",\"Zachary Richard\",\"OutKast\",\"Eve (2)\",\"Lauryn Hill\",\"Robin S.\",\"Gillette\",\"Claudette Dion, C\\u00e9line Dion\",\"Toni Braxton\",\"C\\u00e9line Dion, Peabo Bryson, Color Me Badd, David Foster\",\"Spice Girls\",\"C\\u00e9line Dion, Josh Groban\",\"C\\u00e9line Dion, Fran\\u00e7oise Hardy\",\"C\\u00e9line Dion Duet\",\"C\\u00e9line Dion, Atomic Kitten\",\"C\\u00e9line Dion\",\"Jive Bunny And The Mastermixers\",\"Aaliyah\",\"Anastacia, C\\u00e9line Dion\",\"Garou, C\\u00e9line Dion\",\"Michael Bolton\",\"Ja Rule\",\"Mylene Farmer*\",\"Vibze Cartel* feat. C\\u00e9line Dion\",\"Cyndi Lauper\",\"Genesis\",\"Marc Dupr\\u00e9 Avec La Participation De C\\u00e9line Dion\",\"20 Fingers\",\"C\\u00e9line Dion \\u5e2d\\u7433 \\u72c4\\u7fc1*\",\"Darren Hayes\",\"Mariah Carey\",\"Josh Groban\",\"Brian Byrne (2) And The American Boychoir\",\"Judith Hill\",\"Charlotte Church\",\"Michael Bubl\\u00e9\",\"The London Symphony Orchestra\"]},\"selected\":{\"id\":\"1083\"},\"selection_policy\":{\"id\":\"1082\"}},\"id\":\"1040\",\"type\":\"ColumnDataSource\"},{\"attributes\":{\"callback\":null},\"id\":\"1030\",\"type\":\"TapTool\"},{\"attributes\":{},\"id\":\"1029\",\"type\":\"ResetTool\"},{\"attributes\":{},\"id\":\"1026\",\"type\":\"PanTool\"},{\"attributes\":{},\"id\":\"1070\",\"type\":\"AllLabels\"},{\"attributes\":{\"line_alpha\":{\"value\":0.2},\"line_width\":{\"value\":2}},\"id\":\"1052\",\"type\":\"MultiLine\"},{\"attributes\":{\"axis\":{\"id\":\"1021\"},\"coordinates\":null,\"dimension\":1,\"grid_line_color\":null,\"group\":null,\"ticker\":null},\"id\":\"1024\",\"type\":\"Grid\"},{\"attributes\":{\"axis_label\":\"x\",\"coordinates\":null,\"formatter\":{\"id\":\"1069\"},\"group\":null,\"major_label_policy\":{\"id\":\"1070\"},\"ticker\":{\"id\":\"1018\"},\"visible\":false},\"id\":\"1017\",\"type\":\"LinearAxis\"},{\"attributes\":{\"coordinates\":null,\"group\":null,\"text_color\":\"black\",\"text_font_size\":\"12pt\"},\"id\":\"1009\",\"type\":\"Title\"},{\"attributes\":{\"fill_alpha\":{\"value\":0.2},\"fill_color\":{\"value\":\"red\"},\"hatch_alpha\":{\"value\":0.2},\"hatch_color\":{\"value\":\"#30a2da\"},\"line_alpha\":{\"value\":0.2},\"size\":{\"value\":15}},\"id\":\"1046\",\"type\":\"Circle\"},{\"attributes\":{},\"id\":\"1064\",\"type\":\"NodesAndLinkedEdges\"},{\"attributes\":{\"source\":{\"id\":\"1040\"}},\"id\":\"1048\",\"type\":\"CDSView\"},{\"attributes\":{\"callback\":null,\"renderers\":[{\"id\":\"1055\"}],\"tooltips\":[[\"index\",\"@{index_hover}\"]]},\"id\":\"1007\",\"type\":\"HoverTool\"},{\"attributes\":{},\"id\":\"1015\",\"type\":\"LinearScale\"},{\"attributes\":{\"margin\":[5,5,5,5],\"name\":\"HSpacer00804\",\"sizing_mode\":\"stretch_width\"},\"id\":\"1004\",\"type\":\"Spacer\"},{\"attributes\":{\"margin\":[5,5,5,5],\"name\":\"HSpacer00805\",\"sizing_mode\":\"stretch_width\"},\"id\":\"1086\",\"type\":\"Spacer\"},{\"attributes\":{},\"id\":\"1018\",\"type\":\"BasicTicker\"},{\"attributes\":{\"children\":[{\"id\":\"1004\"},{\"id\":\"1008\"},{\"id\":\"1086\"}],\"margin\":[0,0,0,0],\"name\":\"Row00800\",\"tags\":[\"embedded\"]},\"id\":\"1003\",\"type\":\"Row\"},{\"attributes\":{},\"id\":\"1025\",\"type\":\"SaveTool\"},{\"attributes\":{\"end\":1.0607260894167319,\"reset_end\":1.0607260894167319,\"reset_start\":-1.187338735401521,\"start\":-1.187338735401521,\"tags\":[[[\"y\",\"y\",null]]]},\"id\":\"1006\",\"type\":\"Range1d\"},{\"attributes\":{\"line_alpha\":{\"value\":0.2},\"line_width\":{\"value\":2}},\"id\":\"1050\",\"type\":\"MultiLine\"},{\"attributes\":{},\"id\":\"1072\",\"type\":\"BasicTickFormatter\"},{\"attributes\":{\"graph_layout\":{\"0\":[0.30225944425141943,-0.6834404285972637],\"1\":[0.38964414752307996,-0.8164240709776325],\"10\":[0.4481895690185978,-0.884497821394316],\"11\":[0.5335792057521932,-0.7159066621366158],\"12\":[0.5365551614279126,-0.9332518206659787],\"13\":[0.46620290528804526,-0.7038456070782787],\"14\":[0.2735308835745421,-0.7187419318747573],\"15\":[0.20869782394996925,-0.8071248371843045],\"16\":[0.354974399504477,-0.6472921390505659],\"17\":[0.268549513949763,-0.8598577768628444],\"18\":[0.32453467875480607,-0.8783751179695212],\"19\":[0.35275267499899976,-0.6975014188256072],\"2\":[0.5562827669117115,-0.8900175384588483],\"20\":[0.49863860165829965,-0.9730015766073057],\"21\":[0.5099204250769168,-0.8525663434822756],\"22\":[0.48921628434044245,-0.7545497511278625],\"23\":[0.23528401150243525,-0.7446114291157021],\"24\":[0.49717367271083646,-0.9126718198752762],\"25\":[0.5110392011040915,-0.7989055238556548],\"26\":[0.5675984117710957,-0.7992979802175164],\"27\":[0.4039642864966872,-0.672316112675814],\"28\":[0.4462782754428323,-0.654201884972299],\"29\":[0.5682736950968759,-0.8460101295188234],\"3\":[0.4440301464462263,-1.0],\"30\":[0.31763006671920113,-0.9769965059643322],\"31\":[0.2748307125618208,-0.9637533294867295],\"32\":[0.5026275015407471,-0.6774296796809663],\"33\":[0.23147699843687186,-0.9070026015796585],\"34\":[0.2920169845846487,-0.7876628895698242],\"35\":[0.24745188157721265,-0.7969283210107011],\"36\":[0.21749590231976879,-0.858278194501188],\"37\":[0.3409092638957448,-0.7573750432811778],\"38\":[0.3556401623468691,-0.9980204352705545],\"39\":[0.403437806660711,-0.9392740739651889],\"4\":[0.42258153776904656,-0.7375155925229545],\"40\":[-0.11643415947569562,0.5512169150146992],\"41\":[-0.23923515876919052,0.6811859807870031],\"42\":[-0.3932262544803107,0.5973857270534123],\"43\":[-0.33190896225122873,0.7503439092560287],\"44\":[-0.23238519740283556,0.5073044887902498],\"45\":[-0.1598230601550586,0.7181377748874148],\"46\":[-0.24222826484755708,0.8733873540152107],\"47\":[-0.15311688133125506,0.5787207759598652],\"48\":[-0.2047841673181103,0.5532617734698173],\"49\":[-0.10572919368527178,0.6984100981755356],\"5\":[0.2778764690750814,-0.9190118014371924],\"50\":[-0.13448607045335978,0.6395066595180865],\"51\":[-0.06340397902762566,0.7533164437227468],\"52\":[-0.3259438458119331,0.6405055528126965],\"53\":[-0.3982501434369842,0.6459363922420474],\"54\":[-0.28164645835133206,0.8467425140679297],\"55\":[-0.13080469598149086,0.8423331420146741],\"56\":[-0.2348130143085085,0.8268197046846057],\"57\":[-0.17864458482409046,0.82850149892937],\"58\":[-0.3981527876944152,0.7713889957666651],\"59\":[-0.10977836411086764,0.7541708796278369],\"6\":[0.3976013826980912,-0.9919093945011199],\"60\":[-0.35298295475940494,0.6862158895493005],\"61\":[-0.09094737263717759,0.8017991062765046],\"62\":[-0.38755832334173473,0.7312632566534782],\"63\":[-0.5468098746087017,0.6112143278152955],\"64\":[-0.330832807400819,0.8110158028794068],\"65\":[-0.16937525388846034,0.522588255140402],\"66\":[-0.06376293254888131,0.6234439215900899],\"67\":[-0.41514356157934545,0.694745421154953],\"68\":[-0.14518968767054777,0.7923137510756849],\"69\":[-0.3003326119621668,0.5789783458579129],\"7\":[0.45574649897144137,-0.953708306033884],\"70\":[-0.18945901743942567,0.8694893410650542],\"71\":[-0.28342832248737,0.7862339299076069],\"72\":[-0.3538832491173065,0.5850586181403131],\"73\":[-0.21581732373531015,0.617186413310161],\"74\":[-0.21362527676789791,0.7750727939142034],\"75\":[-0.3732997401266326,0.8110326301002653],\"76\":[-0.2590096489102888,0.5510811854570762],\"77\":[-0.3248389972621559,0.8586606204527253],\"78\":[-0.05088806072986719,0.7040974296145697],\"79\":[-0.34286823940223354,0.5385990195001665],\"8\":[0.34720894310562705,-0.931193282274467],\"80\":[-0.09798095765509622,0.5969497033536021],\"81\":[-0.29384877174483354,0.5147139843766161],\"82\":[-0.07123692840403796,0.6646261953417885],\"83\":[-0.824854740535043,0.5709523940799391],\"84\":[-0.9095579454138808,0.48643488150364317],\"85\":[-0.9596814364916253,0.5666520061233764],\"86\":[-0.9485531358370171,0.5202460536027966],\"87\":[-0.9552268638598705,0.6134548344823126],\"88\":[-0.9221418580229765,0.6519601875359653],\"9\":[0.5562288392420895,-0.7541877070461027]}},\"id\":\"1042\",\"type\":\"StaticLayoutProvider\"},{\"attributes\":{\"bottom_units\":\"screen\",\"coordinates\":null,\"fill_alpha\":0.5,\"fill_color\":\"lightgrey\",\"group\":null,\"left_units\":\"screen\",\"level\":\"overlay\",\"line_alpha\":1.0,\"line_color\":\"black\",\"line_dash\":[4,4],\"line_width\":2,\"right_units\":\"screen\",\"syncable\":false,\"top_units\":\"screen\"},\"id\":\"1031\",\"type\":\"BoxAnnotation\"},{\"attributes\":{\"tools\":[{\"id\":\"1007\"},{\"id\":\"1025\"},{\"id\":\"1026\"},{\"id\":\"1027\"},{\"id\":\"1028\"},{\"id\":\"1029\"},{\"id\":\"1030\"}]},\"id\":\"1032\",\"type\":\"Toolbar\"},{\"attributes\":{\"axis_label\":\"y\",\"coordinates\":null,\"formatter\":{\"id\":\"1072\"},\"group\":null,\"major_label_policy\":{\"id\":\"1073\"},\"ticker\":{\"id\":\"1022\"},\"visible\":false},\"id\":\"1021\",\"type\":\"LinearAxis\"},{\"attributes\":{\"axis\":{\"id\":\"1017\"},\"coordinates\":null,\"grid_line_color\":null,\"group\":null,\"ticker\":null},\"id\":\"1020\",\"type\":\"Grid\"},{\"attributes\":{},\"id\":\"1027\",\"type\":\"WheelZoomTool\"},{\"attributes\":{\"coordinates\":null,\"edge_renderer\":{\"id\":\"1053\"},\"group\":null,\"inspection_policy\":{\"id\":\"1066\"},\"layout_provider\":{\"id\":\"1042\"},\"node_renderer\":{\"id\":\"1047\"},\"selection_policy\":{\"id\":\"1064\"}},\"id\":\"1055\",\"type\":\"GraphRenderer\"},{\"attributes\":{\"overlay\":{\"id\":\"1031\"}},\"id\":\"1028\",\"type\":\"BoxZoomTool\"},{\"attributes\":{\"fill_color\":{\"value\":\"limegreen\"},\"hatch_color\":{\"value\":\"#30a2da\"},\"size\":{\"value\":15}},\"id\":\"1045\",\"type\":\"Circle\"},{\"attributes\":{\"line_width\":{\"value\":2}},\"id\":\"1049\",\"type\":\"MultiLine\"},{\"attributes\":{\"fill_color\":{\"value\":\"red\"},\"hatch_color\":{\"value\":\"#30a2da\"},\"size\":{\"value\":15}},\"id\":\"1043\",\"type\":\"Circle\"},{\"attributes\":{\"line_color\":{\"value\":\"limegreen\"},\"line_width\":{\"value\":2}},\"id\":\"1051\",\"type\":\"MultiLine\"}],\"root_ids\":[\"1003\"]},\"title\":\"Bokeh Application\",\"version\":\"2.4.3\"}};\n",
       "    var render_items = [{\"docid\":\"6bcfc96c-fc30-46d1-8054-de895a6d5d0c\",\"root_ids\":[\"1003\"],\"roots\":{\"1003\":\"9cb7ee30-c477-4b5c-9932-90ca550b9a32\"}}];\n",
       "    root.Bokeh.embed.embed_items_notebook(docs_json, render_items);\n",
       "  }\n",
       "  if (root.Bokeh !== undefined && root.Bokeh.Panel !== undefined) {\n",
       "    embed_document(root);\n",
       "  } else {\n",
       "    var attempts = 0;\n",
       "    var timer = setInterval(function(root) {\n",
       "      if (root.Bokeh !== undefined && root.Bokeh.Panel !== undefined) {\n",
       "        clearInterval(timer);\n",
       "        embed_document(root);\n",
       "      } else if (document.readyState == \"complete\") {\n",
       "        attempts++;\n",
       "        if (attempts > 200) {\n",
       "          clearInterval(timer);\n",
       "          console.log(\"Bokeh: ERROR: Unable to run BokehJS code because BokehJS library is missing\");\n",
       "        }\n",
       "      }\n",
       "    }, 25, root)\n",
       "  }\n",
       "})(window);</script>"
      ],
      "text/plain": [
       ":Graph   [start,end]"
      ]
     },
     "execution_count": 7,
     "metadata": {
      "application/vnd.holoviews_exec.v0+json": {
       "id": "1003"
      }
     },
     "output_type": "execute_result"
    }
   ],
   "source": [
    "hvnx.draw(G4, with_labels=False, color=\"purple\")"
   ]
  },
  {
   "cell_type": "code",
   "execution_count": null,
   "metadata": {},
   "outputs": [],
   "source": []
  }
 ],
 "metadata": {
  "kernelspec": {
   "display_name": "Python 3.10.4 64-bit",
   "language": "python",
   "name": "python3"
  },
  "language_info": {
   "codemirror_mode": {
    "name": "ipython",
    "version": 3
   },
   "file_extension": ".py",
   "mimetype": "text/x-python",
   "name": "python",
   "nbconvert_exporter": "python",
   "pygments_lexer": "ipython3",
   "version": "3.10.4"
  },
  "orig_nbformat": 4,
  "vscode": {
   "interpreter": {
    "hash": "aee8b7b246df8f9039afb4144a1f6fd8d2ca17a180786b69acc140d282b71a49"
   }
  }
 },
 "nbformat": 4,
 "nbformat_minor": 2
}
